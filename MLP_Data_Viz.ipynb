{
 "cells": [
  {
   "cell_type": "code",
   "execution_count": 1,
   "metadata": {},
   "outputs": [],
   "source": [
    "from requests import get\n",
    "\n",
    "from bs4 import BeautifulSoup\n",
    "from IPython.display import clear_output\n",
    "import pandas as pd\n",
    "\n",
    "from collections import Counter\n",
    "import numpy as np\n",
    "\n",
    "import lightgbm as lg\n",
    "from sklearn.model_selection import train_test_split\n",
    "\n",
    "from sklearn.metrics import explained_variance_score\n",
    "\n",
    "import matplotlib.pyplot as plt"
   ]
  },
  {
   "cell_type": "code",
   "execution_count": 493,
   "metadata": {},
   "outputs": [],
   "source": [
    "import pickle as pk"
   ]
  },
  {
   "cell_type": "code",
   "execution_count": 8,
   "metadata": {},
   "outputs": [],
   "source": [
    "urls = ['https://www.imdb.com/title/tt1751105/episodes?season=' + str(i) for i in range(1,10)]"
   ]
  },
  {
   "cell_type": "code",
   "execution_count": 9,
   "metadata": {},
   "outputs": [],
   "source": [
    "rating = []\n",
    "votes = []\n",
    "links = []\n",
    "\n",
    "for s,url in enumerate(urls):\n",
    "    resp = get(url)\n",
    "    html_soup = BeautifulSoup(resp.text, 'html.parser')\n",
    "    episode_containers_even = html_soup.find_all('div', class_ = 'list_item even')\n",
    "    episode_containers_odd = html_soup.find_all('div', class_ = 'list_item odd')\n",
    "    num_ = len(episode_containers_even) + len(episode_containers_odd)\n",
    "    \n",
    "    rating_, votes_, links_ = [0]*num_, [0]*num_, ['']*num_\n",
    "    \n",
    "    for i,ep in enumerate(episode_containers_odd):\n",
    "        rating_[2*i] = float(ep.find('span', class_=\"ipl-rating-star__rating\").text)\n",
    "        votes_[2*i] = int(ep.find('span', class_=\"ipl-rating-star__total-votes\").text[1:-1])\n",
    "        links_[2*i] = ep.strong.a.attrs['href']\n",
    "    for i,ep in enumerate(episode_containers_even):\n",
    "        rating_[2*i+1] = float(ep.find('span', class_=\"ipl-rating-star__rating\").text)\n",
    "        votes_[2*i+1] = int(ep.find('span', class_=\"ipl-rating-star__total-votes\").text[1:-1])\n",
    "        links_[2*i+1] = ep.strong.a.attrs['href']\n",
    "    rating += [rating_]\n",
    "    votes += [votes_]\n",
    "    links += [links_]\n",
    "\n",
    "links_ = [['https://www.imdb.com' + link_ +'ratings?ref_=tt_ov_rt' for link_ in _] for _ in links]"
   ]
  },
  {
   "cell_type": "code",
   "execution_count": 10,
   "metadata": {},
   "outputs": [],
   "source": [
    "parsed_tables = []\n",
    "for season in range(9):\n",
    "    parsed_tables_season = []\n",
    "    for num in range(len(links_[season])):\n",
    "        print(links_[season][num])\n",
    "        resp = get(links_[season][num])\n",
    "        html_soup = BeautifulSoup(resp.text, 'html.parser')\n",
    "        tables = html_soup('div', class_='title-ratings-sub-page')[0]('table')\n",
    "\n",
    "        parsed_tables_ = []\n",
    "        table_ = []\n",
    "\n",
    "        #tables[0]\n",
    "        for tr in tables[0]('tr')[1:]:\n",
    "            table_ += [int(tr('div', class_='leftAligned')[0].text)]\n",
    "\n",
    "        parsed_tables_ += [table_]\n",
    "\n",
    "        #tables[1]\n",
    "        table_ = {}\n",
    "        for tr, y in zip(tables[1]('tr')[1:], ['All', 'Males', 'Females']):\n",
    "            table_[y] = {}\n",
    "            for td, x in zip(tr('td')[1:], ['All Ages', '<18', '18-29', '30-44', '45+']):\n",
    "                print(y,x)\n",
    "                table_[y][x] = None if td.a is None else int(td.a.text)\n",
    "        parsed_tables_ += [table_]\n",
    "\n",
    "        #tables[2]\n",
    "        table_ = {}\n",
    "        for tr in tables[1]('tr')[1:]:\n",
    "            for td, x in zip(tr('td')[1:], ['Top 1000 Voters', 'US Users', 'Non-US Users']):\n",
    "                table_[x] = None if td.a is None else int(td.a.text)\n",
    "        parsed_tables_ += [table_]\n",
    "        parsed_tables_season += [parsed_tables_]\n",
    "        clear_output()\n",
    "    parsed_tables += [parsed_tables_season]"
   ]
  },
  {
   "cell_type": "code",
   "execution_count": 11,
   "metadata": {},
   "outputs": [],
   "source": [
    "data = pd.read_json(\"my-little-pony-friendship-is-magic-episode-data/episodes.json\", orient='index')"
   ]
  },
  {
   "cell_type": "code",
   "execution_count": 12,
   "metadata": {},
   "outputs": [],
   "source": [
    "data['rating'] = None\n",
    "data['votes'] = None\n",
    "for i in ['All', 'Males', 'Females']:\n",
    "    for j in ['All Ages', '<18', '18-29', '30-44', '45+']:\n",
    "        data[i+'_'+j] = None\n",
    "\n",
    "for _ in ['Top 1000 Voters', 'US Users', 'Non-US Users']:\n",
    "    data[_] = None\n",
    "    \n",
    "for _ in range(1,11):\n",
    "    data[str(_)+'_rate'] = None"
   ]
  },
  {
   "cell_type": "code",
   "execution_count": 13,
   "metadata": {},
   "outputs": [],
   "source": [
    "for s in range(len(rating)):\n",
    "    for i in range(len(rating[s])):\n",
    "        m = (data.loc[:,'season'] == s+1) & (data.loc[:,'number_in_season'] == i+1)\n",
    "        data.loc[m,'rating'] = rating[s][i]\n",
    "        data.loc[m,'votes'] = votes[s][i]\n",
    "        \n",
    "        for _ in range(10):\n",
    "            data.loc[m, str(10-_)+'_rate'] = parsed_tables[s][i][0][_]\n",
    "            \n",
    "        for x in ['All', 'Males', 'Females']:\n",
    "            for y in ['All Ages', '<18', '18-29', '30-44', '45+']:\n",
    "                data.loc[m, x+'_'+y] = parsed_tables[s][i][1][x][y]\n",
    "            \n",
    "        for _ in ['Top 1000 Voters', 'US Users', 'Non-US Users']:\n",
    "            data.loc[m,_] = parsed_tables[s][i][2][_]"
   ]
  },
  {
   "cell_type": "code",
   "execution_count": 14,
   "metadata": {},
   "outputs": [
    {
     "data": {
      "text/plain": [
       "197    [{'character': 'Fluttershy', 'line': 'Oh, good...\n",
       "198    [{'character': 'Princess Celestia', 'line': 'I...\n",
       "199    [{'character': 'Rainbow Dash', 'line': 'Congra...\n",
       "200    [{'character': 'Spike', 'line': 'Twilight! Loo...\n",
       "201    [{'character': 'Spike', 'line': 'Whoa!'}, {'ch...\n",
       "202    [{'character': 'Announcer', 'line': 'Highlight...\n",
       "203    [{'character': 'Silverstream', 'line': 'See?! ...\n",
       "204    [{'character': 'Cozy Glow', 'line': 'I don't w...\n",
       "205    [{'character': 'Smolder', 'line': 'Uh, Headmar...\n",
       "206    [{'character': 'Applejack', 'line': 'I know we...\n",
       "207    [{'character': 'Trixie', 'line': 'I know how h...\n",
       "208    [{'character': 'Skeedaddle', 'line': 'Cutie Ma...\n",
       "209    [{'character': 'Twilight Sparkle', 'line': 'Re...\n",
       "210    [{'character': 'Rainbow Dash', 'line': 'I thou...\n",
       "211    [{'character': 'Twilight Sparkle', 'line': 'I ...\n",
       "212    [{'character': 'Spike', 'line': 'Okay, Spike. ...\n",
       "213    [{'character': 'Cozy Glow', 'line': 'Where are...\n",
       "214    [{'character': 'Fluttershy', 'line': 'Mm-hmm. ...\n",
       "215    [{'character': 'Rarity', 'line': 'Oh, Spiiiike...\n",
       "216    [{'character': 'Starlight Glimmer', 'line': 'I...\n",
       "217    [{'character': 'Fluttershy', 'line': 'Oh! I ju...\n",
       "Name: transcript, dtype: object"
      ]
     },
     "execution_count": 14,
     "metadata": {},
     "output_type": "execute_result"
    }
   ],
   "source": [
    "data.loc[data.loc[:,'season']==9,'transcript']"
   ]
  },
  {
   "cell_type": "code",
   "execution_count": 15,
   "metadata": {},
   "outputs": [
    {
     "data": {
      "text/plain": [
       "221"
      ]
     },
     "execution_count": 15,
     "metadata": {},
     "output_type": "execute_result"
    }
   ],
   "source": [
    "len(data.loc[:, 'transcript'])"
   ]
  },
  {
   "cell_type": "code",
   "execution_count": 16,
   "metadata": {},
   "outputs": [
    {
     "data": {
      "text/plain": [
       "<ufunc 'isnan'>"
      ]
     },
     "execution_count": 16,
     "metadata": {},
     "output_type": "execute_result"
    }
   ],
   "source": [
    "np.isnan"
   ]
  },
  {
   "cell_type": "code",
   "execution_count": 17,
   "metadata": {},
   "outputs": [],
   "source": [
    "res = {}\n",
    "\n",
    "for transcript in data.loc[:, 'transcript']:\n",
    "    if type(transcript) is float:\n",
    "        continue\n",
    "    for line in transcript:\n",
    "        if line['character'] not in res:\n",
    "            res[line['character']] = []\n",
    "            \n",
    "\n",
    "        #res[line['character']]['lines'] = res[line['character']].get('lines',[])\\\n",
    "        #                                        + [line['line'].split(' ')]\n",
    "        #res[line['character']] = res.get(line['character'], {}).get('proportions') + [line['line'].split(' ')]\n",
    "        "
   ]
  },
  {
   "cell_type": "code",
   "execution_count": 19,
   "metadata": {},
   "outputs": [],
   "source": [
    "word_counts = pd.DataFrame(0,index = np.arange(data.shape[0]), columns=[character for character in res])"
   ]
  },
  {
   "cell_type": "code",
   "execution_count": 20,
   "metadata": {},
   "outputs": [],
   "source": [
    "for i,transcript in enumerate(data.loc[:, 'transcript']):\n",
    "    if type(transcript) is float:\n",
    "        continue\n",
    "    for line in transcript:\n",
    "        word_counts.loc[i,line['character']] += len(line['line'].split(' '))\n",
    "    \n",
    "    "
   ]
  },
  {
   "cell_type": "code",
   "execution_count": 21,
   "metadata": {},
   "outputs": [],
   "source": [
    "word_counts_normed = word_counts.div(word_counts.sum(axis=1), axis=0)"
   ]
  },
  {
   "cell_type": "code",
   "execution_count": 22,
   "metadata": {},
   "outputs": [
    {
     "data": {
      "text/html": [
       "<div>\n",
       "<style scoped>\n",
       "    .dataframe tbody tr th:only-of-type {\n",
       "        vertical-align: middle;\n",
       "    }\n",
       "\n",
       "    .dataframe tbody tr th {\n",
       "        vertical-align: top;\n",
       "    }\n",
       "\n",
       "    .dataframe thead th {\n",
       "        text-align: right;\n",
       "    }\n",
       "</style>\n",
       "<table border=\"1\" class=\"dataframe\">\n",
       "  <thead>\n",
       "    <tr style=\"text-align: right;\">\n",
       "      <th></th>\n",
       "      <th>Narrator</th>\n",
       "      <th>Narrator and Twilight Sparkle</th>\n",
       "      <th>Twilight Sparkle</th>\n",
       "      <th>Twinkleshine</th>\n",
       "      <th>Spike</th>\n",
       "      <th>Applejack</th>\n",
       "      <th>Granny Smith</th>\n",
       "      <th>Apple Bloom</th>\n",
       "      <th>Rainbow Dash</th>\n",
       "      <th>Rarity</th>\n",
       "      <th>...</th>\n",
       "      <th>Townspony 4</th>\n",
       "      <th>Star Spur</th>\n",
       "      <th>Senior Deputy</th>\n",
       "      <th>Trouble Shoes</th>\n",
       "      <th>Young Trouble Shoes</th>\n",
       "      <th>Judge</th>\n",
       "      <th>Tree Hugger</th>\n",
       "      <th>Storekeeper</th>\n",
       "      <th>Young Gilda</th>\n",
       "      <th>Young Gilda and Young Rainbow Dash</th>\n",
       "    </tr>\n",
       "  </thead>\n",
       "  <tbody>\n",
       "    <tr>\n",
       "      <th>0</th>\n",
       "      <td>0.079839</td>\n",
       "      <td>0.00121</td>\n",
       "      <td>0.372581</td>\n",
       "      <td>0.014113</td>\n",
       "      <td>0.153629</td>\n",
       "      <td>0.044355</td>\n",
       "      <td>0.004032</td>\n",
       "      <td>0.002419</td>\n",
       "      <td>0.053226</td>\n",
       "      <td>0.054839</td>\n",
       "      <td>...</td>\n",
       "      <td>0.0</td>\n",
       "      <td>0.0</td>\n",
       "      <td>0.0</td>\n",
       "      <td>0.0</td>\n",
       "      <td>0.0</td>\n",
       "      <td>0.0</td>\n",
       "      <td>0.0</td>\n",
       "      <td>0.0</td>\n",
       "      <td>0.0</td>\n",
       "      <td>0.0</td>\n",
       "    </tr>\n",
       "    <tr>\n",
       "      <th>1</th>\n",
       "      <td>0.000000</td>\n",
       "      <td>0.00000</td>\n",
       "      <td>0.336418</td>\n",
       "      <td>0.000000</td>\n",
       "      <td>0.063146</td>\n",
       "      <td>0.088732</td>\n",
       "      <td>0.000000</td>\n",
       "      <td>0.000000</td>\n",
       "      <td>0.054981</td>\n",
       "      <td>0.069134</td>\n",
       "      <td>...</td>\n",
       "      <td>0.0</td>\n",
       "      <td>0.0</td>\n",
       "      <td>0.0</td>\n",
       "      <td>0.0</td>\n",
       "      <td>0.0</td>\n",
       "      <td>0.0</td>\n",
       "      <td>0.0</td>\n",
       "      <td>0.0</td>\n",
       "      <td>0.0</td>\n",
       "      <td>0.0</td>\n",
       "    </tr>\n",
       "    <tr>\n",
       "      <th>2</th>\n",
       "      <td>0.000000</td>\n",
       "      <td>0.00000</td>\n",
       "      <td>0.008567</td>\n",
       "      <td>0.000000</td>\n",
       "      <td>0.000000</td>\n",
       "      <td>0.000000</td>\n",
       "      <td>0.000000</td>\n",
       "      <td>0.008567</td>\n",
       "      <td>0.003808</td>\n",
       "      <td>0.000000</td>\n",
       "      <td>...</td>\n",
       "      <td>0.0</td>\n",
       "      <td>0.0</td>\n",
       "      <td>0.0</td>\n",
       "      <td>0.0</td>\n",
       "      <td>0.0</td>\n",
       "      <td>0.0</td>\n",
       "      <td>0.0</td>\n",
       "      <td>0.0</td>\n",
       "      <td>0.0</td>\n",
       "      <td>0.0</td>\n",
       "    </tr>\n",
       "    <tr>\n",
       "      <th>3</th>\n",
       "      <td>0.000000</td>\n",
       "      <td>0.00000</td>\n",
       "      <td>0.098785</td>\n",
       "      <td>0.000000</td>\n",
       "      <td>0.547808</td>\n",
       "      <td>0.000000</td>\n",
       "      <td>0.000000</td>\n",
       "      <td>0.000000</td>\n",
       "      <td>0.000000</td>\n",
       "      <td>0.000000</td>\n",
       "      <td>...</td>\n",
       "      <td>0.0</td>\n",
       "      <td>0.0</td>\n",
       "      <td>0.0</td>\n",
       "      <td>0.0</td>\n",
       "      <td>0.0</td>\n",
       "      <td>0.0</td>\n",
       "      <td>0.0</td>\n",
       "      <td>0.0</td>\n",
       "      <td>0.0</td>\n",
       "      <td>0.0</td>\n",
       "    </tr>\n",
       "    <tr>\n",
       "      <th>4</th>\n",
       "      <td>0.000000</td>\n",
       "      <td>0.00000</td>\n",
       "      <td>0.240529</td>\n",
       "      <td>0.000000</td>\n",
       "      <td>0.007759</td>\n",
       "      <td>0.082611</td>\n",
       "      <td>0.000000</td>\n",
       "      <td>0.000000</td>\n",
       "      <td>0.047010</td>\n",
       "      <td>0.030580</td>\n",
       "      <td>...</td>\n",
       "      <td>0.0</td>\n",
       "      <td>0.0</td>\n",
       "      <td>0.0</td>\n",
       "      <td>0.0</td>\n",
       "      <td>0.0</td>\n",
       "      <td>0.0</td>\n",
       "      <td>0.0</td>\n",
       "      <td>0.0</td>\n",
       "      <td>0.0</td>\n",
       "      <td>0.0</td>\n",
       "    </tr>\n",
       "  </tbody>\n",
       "</table>\n",
       "<p>5 rows × 800 columns</p>\n",
       "</div>"
      ],
      "text/plain": [
       "   Narrator  Narrator and Twilight Sparkle  Twilight Sparkle  Twinkleshine  \\\n",
       "0  0.079839                        0.00121          0.372581      0.014113   \n",
       "1  0.000000                        0.00000          0.336418      0.000000   \n",
       "2  0.000000                        0.00000          0.008567      0.000000   \n",
       "3  0.000000                        0.00000          0.098785      0.000000   \n",
       "4  0.000000                        0.00000          0.240529      0.000000   \n",
       "\n",
       "      Spike  Applejack  Granny Smith  Apple Bloom  Rainbow Dash    Rarity  \\\n",
       "0  0.153629   0.044355      0.004032     0.002419      0.053226  0.054839   \n",
       "1  0.063146   0.088732      0.000000     0.000000      0.054981  0.069134   \n",
       "2  0.000000   0.000000      0.000000     0.008567      0.003808  0.000000   \n",
       "3  0.547808   0.000000      0.000000     0.000000      0.000000  0.000000   \n",
       "4  0.007759   0.082611      0.000000     0.000000      0.047010  0.030580   \n",
       "\n",
       "   ...  Townspony 4  Star Spur  Senior Deputy  Trouble Shoes  \\\n",
       "0  ...          0.0        0.0            0.0            0.0   \n",
       "1  ...          0.0        0.0            0.0            0.0   \n",
       "2  ...          0.0        0.0            0.0            0.0   \n",
       "3  ...          0.0        0.0            0.0            0.0   \n",
       "4  ...          0.0        0.0            0.0            0.0   \n",
       "\n",
       "   Young Trouble Shoes  Judge  Tree Hugger  Storekeeper  Young Gilda  \\\n",
       "0                  0.0    0.0          0.0          0.0          0.0   \n",
       "1                  0.0    0.0          0.0          0.0          0.0   \n",
       "2                  0.0    0.0          0.0          0.0          0.0   \n",
       "3                  0.0    0.0          0.0          0.0          0.0   \n",
       "4                  0.0    0.0          0.0          0.0          0.0   \n",
       "\n",
       "   Young Gilda and Young Rainbow Dash  \n",
       "0                                 0.0  \n",
       "1                                 0.0  \n",
       "2                                 0.0  \n",
       "3                                 0.0  \n",
       "4                                 0.0  \n",
       "\n",
       "[5 rows x 800 columns]"
      ]
     },
     "execution_count": 22,
     "metadata": {},
     "output_type": "execute_result"
    }
   ],
   "source": [
    "word_counts_normed.head()"
   ]
  },
  {
   "cell_type": "code",
   "execution_count": 23,
   "metadata": {},
   "outputs": [],
   "source": [
    "_ = word_counts_normed.mean(axis=0)\n"
   ]
  },
  {
   "cell_type": "code",
   "execution_count": 24,
   "metadata": {},
   "outputs": [],
   "source": [
    "char_freq = pd.DataFrame(_)"
   ]
  },
  {
   "cell_type": "code",
   "execution_count": 25,
   "metadata": {
    "scrolled": true
   },
   "outputs": [
    {
     "data": {
      "text/html": [
       "<div>\n",
       "<style scoped>\n",
       "    .dataframe tbody tr th:only-of-type {\n",
       "        vertical-align: middle;\n",
       "    }\n",
       "\n",
       "    .dataframe tbody tr th {\n",
       "        vertical-align: top;\n",
       "    }\n",
       "\n",
       "    .dataframe thead th {\n",
       "        text-align: right;\n",
       "    }\n",
       "</style>\n",
       "<table border=\"1\" class=\"dataframe\">\n",
       "  <thead>\n",
       "    <tr style=\"text-align: right;\">\n",
       "      <th></th>\n",
       "      <th>0</th>\n",
       "    </tr>\n",
       "  </thead>\n",
       "  <tbody>\n",
       "    <tr>\n",
       "      <th>Twilight Sparkle</th>\n",
       "      <td>0.142187</td>\n",
       "    </tr>\n",
       "    <tr>\n",
       "      <th>Rarity</th>\n",
       "      <td>0.082765</td>\n",
       "    </tr>\n",
       "    <tr>\n",
       "      <th>Rainbow Dash</th>\n",
       "      <td>0.081366</td>\n",
       "    </tr>\n",
       "    <tr>\n",
       "      <th>Pinkie Pie</th>\n",
       "      <td>0.077768</td>\n",
       "    </tr>\n",
       "    <tr>\n",
       "      <th>Applejack</th>\n",
       "      <td>0.074501</td>\n",
       "    </tr>\n",
       "  </tbody>\n",
       "</table>\n",
       "</div>"
      ],
      "text/plain": [
       "                         0\n",
       "Twilight Sparkle  0.142187\n",
       "Rarity            0.082765\n",
       "Rainbow Dash      0.081366\n",
       "Pinkie Pie        0.077768\n",
       "Applejack         0.074501"
      ]
     },
     "execution_count": 25,
     "metadata": {},
     "output_type": "execute_result"
    }
   ],
   "source": [
    "char_freq.sort_values(0, ascending=False).head()"
   ]
  },
  {
   "cell_type": "code",
   "execution_count": 26,
   "metadata": {},
   "outputs": [],
   "source": [
    "X, y = np.array(word_counts_normed), np.array(data.loc[:, 'rating'])\n",
    "#X, y = np.array(word_counts), np.array(data.loc[:, 'rating'])\n",
    "m = y == None\n",
    "\n",
    "X = X[np.logical_not(m), :]\n",
    "y = y[np.logical_not(m)].astype('float')\n",
    "\n",
    "m = np.isnan(y)\n",
    "\n",
    "X = X[np.logical_not(m), :]\n",
    "y = y[np.logical_not(m)]\n"
   ]
  },
  {
   "cell_type": "markdown",
   "metadata": {},
   "source": [
    "### Predict rating through words counter"
   ]
  },
  {
   "cell_type": "code",
   "execution_count": 84,
   "metadata": {},
   "outputs": [],
   "source": [
    "X_train, X_test, y_train, y_test = train_test_split(X, y,\\\n",
    "                                                    test_size=0.1)"
   ]
  },
  {
   "cell_type": "code",
   "execution_count": 95,
   "metadata": {},
   "outputs": [],
   "source": [
    "model = lg.LGBMRegressor('rf', learning_rate=0.01, n_estimators=2000,\\\n",
    "                         colsample_bytree=1, num_leaves=31, subsample=0.4, subsample_freq=1,\\\n",
    "                         reg_alpha=0, min_child_samples=1, min_child_weight=1e-5, importance_type='split')"
   ]
  },
  {
   "cell_type": "code",
   "execution_count": 74,
   "metadata": {},
   "outputs": [],
   "source": [
    "model = lg.LGBMRegressor('goss', learning_rate=0.0008, n_estimators=1500,\\\n",
    "                         colsample_bytree=1, num_leaves=4, subsample=0.4,\\\n",
    "                         reg_alpha=1e-1, min_child_samples=3, min_child_weight=1e-6, importance_type='gain')"
   ]
  },
  {
   "cell_type": "code",
   "execution_count": 96,
   "metadata": {},
   "outputs": [],
   "source": [
    "y_train, y_test = y_train.astype('float'), y_test.astype('float')"
   ]
  },
  {
   "cell_type": "code",
   "execution_count": 97,
   "metadata": {
    "scrolled": true
   },
   "outputs": [
    {
     "data": {
      "text/plain": [
       "LGBMRegressor(boosting_type='rf', class_weight=None, colsample_bytree=1,\n",
       "              importance_type='split', learning_rate=0.01, max_depth=-1,\n",
       "              min_child_samples=1, min_child_weight=1e-05, min_split_gain=0.0,\n",
       "              n_estimators=2000, n_jobs=-1, num_leaves=31, objective=None,\n",
       "              random_state=None, reg_alpha=0, reg_lambda=0.0, silent=True,\n",
       "              subsample=0.4, subsample_for_bin=200000, subsample_freq=1)"
      ]
     },
     "execution_count": 97,
     "metadata": {},
     "output_type": "execute_result"
    }
   ],
   "source": [
    "model.fit(X_train, y_train) "
   ]
  },
  {
   "cell_type": "code",
   "execution_count": 98,
   "metadata": {},
   "outputs": [
    {
     "name": "stdout",
     "output_type": "stream",
     "text": [
      "0.4396967120455269\n"
     ]
    },
    {
     "data": {
      "text/plain": [
       "0.29871227969849506"
      ]
     },
     "execution_count": 98,
     "metadata": {},
     "output_type": "execute_result"
    }
   ],
   "source": [
    "y_pred = model.predict(X_test)\n",
    "\n",
    "print(((y_test - y_train.mean())**2).mean())\n",
    "\n",
    "((y_pred - y_test)**2).mean()"
   ]
  },
  {
   "cell_type": "code",
   "execution_count": 99,
   "metadata": {},
   "outputs": [
    {
     "data": {
      "text/plain": [
       "0.33103985560076876"
      ]
     },
     "execution_count": 99,
     "metadata": {},
     "output_type": "execute_result"
    }
   ],
   "source": [
    "explained_variance_score(y_test, y_pred)"
   ]
  },
  {
   "cell_type": "code",
   "execution_count": 100,
   "metadata": {
    "scrolled": true
   },
   "outputs": [],
   "source": [
    "importances = pd.DataFrame(model.feature_importances_, index=word_counts_normed.columns).sort_values(0,ascending=False, axis=0)"
   ]
  },
  {
   "cell_type": "markdown",
   "metadata": {},
   "source": [
    "### Importances"
   ]
  },
  {
   "cell_type": "code",
   "execution_count": 176,
   "metadata": {
    "scrolled": true
   },
   "outputs": [
    {
     "data": {
      "text/html": [
       "<div>\n",
       "<style scoped>\n",
       "    .dataframe tbody tr th:only-of-type {\n",
       "        vertical-align: middle;\n",
       "    }\n",
       "\n",
       "    .dataframe tbody tr th {\n",
       "        vertical-align: top;\n",
       "    }\n",
       "\n",
       "    .dataframe thead th {\n",
       "        text-align: right;\n",
       "    }\n",
       "</style>\n",
       "<table border=\"1\" class=\"dataframe\">\n",
       "  <thead>\n",
       "    <tr style=\"text-align: right;\">\n",
       "      <th></th>\n",
       "      <th>0</th>\n",
       "    </tr>\n",
       "  </thead>\n",
       "  <tbody>\n",
       "    <tr>\n",
       "      <th>Twilight Sparkle</th>\n",
       "      <td>6672</td>\n",
       "    </tr>\n",
       "    <tr>\n",
       "      <th>Applejack</th>\n",
       "      <td>6039</td>\n",
       "    </tr>\n",
       "    <tr>\n",
       "      <th>Spike</th>\n",
       "      <td>5529</td>\n",
       "    </tr>\n",
       "    <tr>\n",
       "      <th>Rainbow Dash</th>\n",
       "      <td>4120</td>\n",
       "    </tr>\n",
       "    <tr>\n",
       "      <th>Fluttershy</th>\n",
       "      <td>4027</td>\n",
       "    </tr>\n",
       "  </tbody>\n",
       "</table>\n",
       "</div>"
      ],
      "text/plain": [
       "                     0\n",
       "Twilight Sparkle  6672\n",
       "Applejack         6039\n",
       "Spike             5529\n",
       "Rainbow Dash      4120\n",
       "Fluttershy        4027"
      ]
     },
     "execution_count": 176,
     "metadata": {},
     "output_type": "execute_result"
    }
   ],
   "source": [
    "importances.head()"
   ]
  },
  {
   "cell_type": "code",
   "execution_count": 177,
   "metadata": {
    "scrolled": true
   },
   "outputs": [],
   "source": [
    "villains = ['Starlight Glimmer', 'Storm King', 'The Dazzlings',\\\n",
    " 'Queen Chrysalis', 'King Sombra', 'Tirek', 'Discord', 'Tantabus',\\\n",
    " 'Pony of Shadows', 'Nightmare Moon']"
   ]
  },
  {
   "cell_type": "code",
   "execution_count": 178,
   "metadata": {
    "scrolled": false
   },
   "outputs": [
    {
     "name": "stderr",
     "output_type": "stream",
     "text": [
      "/usr/lib/python3/dist-packages/ipykernel_launcher.py:1: FutureWarning: \n",
      "Passing list-likes to .loc or [] with any missing label will raise\n",
      "KeyError in the future, you can use .reindex() as an alternative.\n",
      "\n",
      "See the documentation here:\n",
      "https://pandas.pydata.org/pandas-docs/stable/user_guide/indexing.html#deprecate-loc-reindex-listlike\n",
      "  \"\"\"Entry point for launching an IPython kernel.\n"
     ]
    }
   ],
   "source": [
    "villains_importances = importances.loc[villains]"
   ]
  },
  {
   "cell_type": "code",
   "execution_count": 179,
   "metadata": {},
   "outputs": [],
   "source": [
    "mask = np.logical_not(np.isnan(villains_importances.loc[:, 0]))\n",
    "villains_importances = villains_importances.loc[mask,:]"
   ]
  },
  {
   "cell_type": "code",
   "execution_count": 180,
   "metadata": {},
   "outputs": [],
   "source": [
    "top = importances.head(15)"
   ]
  },
  {
   "cell_type": "markdown",
   "metadata": {},
   "source": [
    "### top 15 importances"
   ]
  },
  {
   "cell_type": "code",
   "execution_count": 181,
   "metadata": {
    "scrolled": false
   },
   "outputs": [
    {
     "data": {
      "text/plain": [
       "<matplotlib.axes._subplots.AxesSubplot at 0x7f546c351b38>"
      ]
     },
     "execution_count": 181,
     "metadata": {},
     "output_type": "execute_result"
    },
    {
     "data": {
      "image/png": "[encoded data removed]",
      "text/plain": [
       "<Figure size 432x288 with 1 Axes>"
      ]
     },
     "metadata": {},
     "output_type": "display_data"
    }
   ],
   "source": [
    "top.loc[::-1].plot.barh(legend=False)"
   ]
  },
  {
   "cell_type": "markdown",
   "metadata": {},
   "source": [
    "### villain importances"
   ]
  },
  {
   "cell_type": "code",
   "execution_count": 183,
   "metadata": {
    "scrolled": true
   },
   "outputs": [
    {
     "data": {
      "text/plain": [
       "<matplotlib.axes._subplots.AxesSubplot at 0x7f546c11b4e0>"
      ]
     },
     "execution_count": 183,
     "metadata": {},
     "output_type": "execute_result"
    },
    {
     "data": {
      "image/png": "[encoded data removed]",
      "text/plain": [
       "<Figure size 432x288 with 1 Axes>"
      ]
     },
     "metadata": {},
     "output_type": "display_data"
    }
   ],
   "source": [
    "villains_importances.loc[::-1].plot.barh(legend=False)"
   ]
  },
  {
   "cell_type": "code",
   "execution_count": 569,
   "metadata": {},
   "outputs": [],
   "source": [
    "with open('Villains', 'wb') as fp:\n",
    "    pk.dump(villains_importances, fp)"
   ]
  },
  {
   "cell_type": "markdown",
   "metadata": {},
   "source": [
    "## LDA on characters lines"
   ]
  },
  {
   "cell_type": "code",
   "execution_count": 474,
   "metadata": {},
   "outputs": [],
   "source": [
    "from sklearn.decomposition import LatentDirichletAllocation as LDA\n",
    "from sklearn.feature_extraction.text import CountVectorizer"
   ]
  },
  {
   "cell_type": "code",
   "execution_count": 475,
   "metadata": {},
   "outputs": [],
   "source": [
    "n_components = 5\n",
    "topic_model = LDA(n_components, n_jobs=-1, max_iter=500, learning_decay=0.5, max_doc_update_iter=500)"
   ]
  },
  {
   "cell_type": "code",
   "execution_count": 476,
   "metadata": {},
   "outputs": [],
   "source": [
    "characters = {i:[] for i in list(top.index) + list(villains_importances.index)}"
   ]
  },
  {
   "cell_type": "markdown",
   "metadata": {},
   "source": [
    "every document is just one line"
   ]
  },
  {
   "cell_type": "code",
   "execution_count": 477,
   "metadata": {},
   "outputs": [],
   "source": [
    "for transcript in data.loc[:, 'transcript']:\n",
    "    if type(transcript) is float:\n",
    "        continue\n",
    "    for line in transcript:\n",
    "        if line['character'] not in characters:\n",
    "            continue\n",
    "        characters[line['character']] += [line['line']]"
   ]
  },
  {
   "cell_type": "code",
   "execution_count": 478,
   "metadata": {},
   "outputs": [],
   "source": [
    "vectorizer = CountVectorizer(stop_words='english', token_pattern='[a-zA-Z]{3,15}', ngram_range=(1,2))"
   ]
  },
  {
   "cell_type": "code",
   "execution_count": 479,
   "metadata": {},
   "outputs": [],
   "source": [
    "Components = {}\n",
    "_ = {}\n",
    "for character in characters.keys():\n",
    "    _[character] = vectorizer.fit_transform(characters[character])\n",
    "    topic_model.fit(_[character])\n",
    "    components = topic_model.components_.argsort()[:, -10:]\n",
    "    vocab = vectorizer.get_feature_names()\n",
    "    indices = np.array(components).ravel()\n",
    "    normed_components = topic_model.components_/topic_model.components_.sum(axis=-1)[:, np.newaxis]\n",
    "    normed_components = normed_components[np.arange(n_components)[:, np.newaxis],components]\n",
    "    Components[character] = [ [[vocab[i], popularity] for i, popularity in zip(component, n_comp)]\\\n",
    "                             for component, n_comp in zip(components, normed_components)]"
   ]
  },
  {
   "cell_type": "code",
   "execution_count": 486,
   "metadata": {},
   "outputs": [
    {
     "data": {
      "text/plain": [
       "5"
      ]
     },
     "execution_count": 486,
     "metadata": {},
     "output_type": "execute_result"
    }
   ],
   "source": [
    "len(Components['Discord'])"
   ]
  },
  {
   "cell_type": "code",
   "execution_count": 490,
   "metadata": {},
   "outputs": [],
   "source": [
    "kek = np.array(Components['Twilight Sparkle'][0])"
   ]
  },
  {
   "cell_type": "code",
   "execution_count": 491,
   "metadata": {},
   "outputs": [
    {
     "data": {
      "text/plain": [
       "array(['celestia', 'don', 'going', 'pinkie', 'know', 'good', 'just',\n",
       "       'spike', 'princess', 'like'], dtype='<U21')"
      ]
     },
     "execution_count": 491,
     "metadata": {},
     "output_type": "execute_result"
    }
   ],
   "source": [
    "kek[:,0]"
   ]
  },
  {
   "cell_type": "code",
   "execution_count": 492,
   "metadata": {
    "scrolled": false
   },
   "outputs": [
    {
     "data": {
      "text/plain": [
       "<BarContainer object of 10 artists>"
      ]
     },
     "execution_count": 492,
     "metadata": {},
     "output_type": "execute_result"
    },
    {
     "data": {
      "image/png": "[encoded data removed]",
      "text/plain": [
       "<Figure size 432x288 with 1 Axes>"
      ]
     },
     "metadata": {},
     "output_type": "display_data"
    }
   ],
   "source": [
    "plt.barh(kek[:,0], kek[:,1])"
   ]
  },
  {
   "cell_type": "markdown",
   "metadata": {},
   "source": [
    "with open('Components_per_line', 'wb') as fp:\n",
    "    pk.dump(Components, fp)"
   ]
  },
  {
   "cell_type": "markdown",
   "metadata": {},
   "source": [
    "every document is episode"
   ]
  },
  {
   "cell_type": "code",
   "execution_count": 527,
   "metadata": {},
   "outputs": [],
   "source": [
    "characters = {i:[] for i in list(top.index) + list(villains_importances.index)}"
   ]
  },
  {
   "cell_type": "code",
   "execution_count": 528,
   "metadata": {},
   "outputs": [
    {
     "data": {
      "text/plain": [
       "[\" Once upon a time, in the magical land of Equestria, there were two regal sisters who ruled together and created harmony for all the land. To do this, the eldest used her unicorn powers to raise the sun at dawn; the younger brought out the moon to begin the night. Thus, the two sisters maintained balance for their kingdom and their subjects, all the different types of ponies. But as time went on, the younger sister became resentful. The ponies relished and played in the day her elder sister brought forth, but shunned and slept through her beautiful night. One fateful day, the younger unicorn refused to lower the moon to make way for the dawn. The elder sister tried to reason with her, but the bitterness in the young one's heart had transformed her into a wicked mare of darkness: Nightmare Moon.\"]"
      ]
     },
     "execution_count": 528,
     "metadata": {},
     "output_type": "execute_result"
    }
   ],
   "source": [
    "[ ' ' + np.array(data.loc[:, 'transcript'])[0][0]['line']]"
   ]
  },
  {
   "cell_type": "code",
   "execution_count": 536,
   "metadata": {},
   "outputs": [],
   "source": [
    "for transcript in data.loc[:, 'transcript']:\n",
    "    if type(transcript) is float:\n",
    "        continue\n",
    "    res = {ch:\"\" for ch in characters}\n",
    "    for line in transcript:\n",
    "        if line['character'] not in characters:\n",
    "            continue\n",
    "        res[line['character']] += ' ' + line['line']\n",
    "    for ch in res:\n",
    "        characters[ch] += [res[ch]]"
   ]
  },
  {
   "cell_type": "code",
   "execution_count": 538,
   "metadata": {},
   "outputs": [],
   "source": [
    "Components = {}\n",
    "_ = {}\n",
    "for character in characters.keys():\n",
    "    _[character] = vectorizer.fit_transform(characters[character])\n",
    "    topic_model.fit(_[character])\n",
    "    components = topic_model.components_.argsort()[:, -10:]\n",
    "    vocab = vectorizer.get_feature_names()\n",
    "    indices = np.array(components).ravel()\n",
    "    normed_components = topic_model.components_/topic_model.components_.sum(axis=-1)[:, np.newaxis]\n",
    "    normed_components = normed_components[np.arange(n_components)[:, np.newaxis],components]\n",
    "    Components[character] = [ [[vocab[i], popularity] for i, popularity in zip(component, n_comp)]\\\n",
    "                             for component, n_comp in zip(components, normed_components)]"
   ]
  },
  {
   "cell_type": "code",
   "execution_count": 539,
   "metadata": {},
   "outputs": [],
   "source": [
    "kek = np.array(Components['Twilight Sparkle'][0])"
   ]
  },
  {
   "cell_type": "code",
   "execution_count": 557,
   "metadata": {},
   "outputs": [
    {
     "data": {
      "text/plain": [
       "array([0.00308662, 0.00380131, 0.0038728 , 0.00401546, 0.00451572])"
      ]
     },
     "execution_count": 557,
     "metadata": {},
     "output_type": "execute_result"
    }
   ],
   "source": [
    "kek[:,1].astype(float)[-5:]"
   ]
  },
  {
   "cell_type": "code",
   "execution_count": 559,
   "metadata": {
    "scrolled": false
   },
   "outputs": [
    {
     "data": {
      "text/plain": [
       "<BarContainer object of 10 artists>"
      ]
     },
     "execution_count": 559,
     "metadata": {},
     "output_type": "execute_result"
    },
    {
     "data": {
      "image/png": "[encoded data removed]",
      "text/plain": [
       "<Figure size 432x288 with 1 Axes>"
      ]
     },
     "metadata": {},
     "output_type": "display_data"
    }
   ],
   "source": [
    "plt.barh(kek[:,0], kek[:,1].astype(float))"
   ]
  },
  {
   "cell_type": "code",
   "execution_count": 560,
   "metadata": {},
   "outputs": [],
   "source": [
    "with open('Components_per_episode', 'wb') as fp:\n",
    "    pk.dump(Components, fp)"
   ]
  },
  {
   "cell_type": "markdown",
   "metadata": {},
   "source": [
    "## Ratings and Number of marks Through time (take a look on the end and start of seasons)"
   ]
  },
  {
   "cell_type": "markdown",
   "metadata": {},
   "source": [
    "## Genders and ages of spectators through time"
   ]
  },
  {
   "cell_type": "markdown",
   "metadata": {},
   "source": [
    "## Ratings to Number of marks dependency(?)"
   ]
  },
  {
   "cell_type": "markdown",
   "metadata": {},
   "source": [
    "## Activity of character to Writer dependency"
   ]
  },
  {
   "cell_type": "markdown",
   "metadata": {},
   "source": [
    "## Writer/Director rating dependecy\n"
   ]
  },
  {
   "cell_type": "markdown",
   "metadata": {},
   "source": [
    "## Activity of character to time"
   ]
  },
  {
   "cell_type": "markdown",
   "metadata": {},
   "source": [
    "with open('Top_characters', 'wb') as fp:\n",
    "    pk.dump(top, fp)"
   ]
  },
  {
   "cell_type": "markdown",
   "metadata": {},
   "source": [
    "with open('Word_counts', 'wb') as fp:\n",
    "    pk.dump(word_counts,fp)"
   ]
  },
  {
   "cell_type": "markdown",
   "metadata": {},
   "source": [
    "## Number of words/Complexity(number of characters -- plotlines) to author/time"
   ]
  }
 ],
 "metadata": {
  "kernelspec": {
   "display_name": "Python 3",
   "language": "python",
   "name": "python3"
  },
  "language_info": {
   "codemirror_mode": {
    "name": "ipython",
    "version": 3
   },
   "file_extension": ".py",
   "mimetype": "text/x-python",
   "name": "python",
   "nbconvert_exporter": "python",
   "pygments_lexer": "ipython3",
   "version": "3.6.8"
  }
 },
 "nbformat": 4,
 "nbformat_minor": 2
}
